{
 "cells": [
  {
   "cell_type": "markdown",
   "metadata": {},
   "source": [
    "# Tasks \n",
    "\n",
    "Get bibliography of authors with at least 10 publications from an archive of papers. You need to use Dask python library, that provides multi-variables through Dask.bag.\n",
    "\n",
    "### Source\n",
    "Data file is 4.2GB size, get from here: https://arcadauas-my.sharepoint.com/:u:/g/personal/akusokan_arcada_fi1/EYyh_LCY_1hBm6bZRn7MzpABAHmzUJO0su0jQZAOi8nB1w?e=bJISjG\n",
    "\n",
    " \n",
    "\n",
    "Or from BDA lab: bdalab@bdalab-248:/home/data/articles.C-H.xml.tar.gz\n",
    "\n",
    "Jupyter on BDA lab: \n",
    "\n",
    "./anaconda3/bin/jupyter notebook --no-browser\n",
    " \n",
    "\n",
    "1. Create a multi-variable of texts by reading compressed TAR file directly\n",
    "2. Extract author names for each paper\n",
    "3. Make a new multi-variable with author name as a key and paper as a value\n",
    "4. Make a new multi-variable with number of publications for each author (look for a suitable function in Dask.Bag module!)\n",
    "5. Filter only authors with at least 10 publications\n",
    "6. Get a list of those authors with their publication counts as your final result (a normal list, not a multi-variable)"
   ]
  },
  {
   "cell_type": "code",
   "execution_count": null,
   "metadata": {},
   "outputs": [],
   "source": []
  },
  {
   "cell_type": "code",
   "execution_count": 2,
   "metadata": {},
   "outputs": [],
   "source": [
    "# Packages\n",
    "import dask\n",
    "from dask import bag\n",
    "import tarfile\n",
    "from lxml import etree"
   ]
  },
  {
   "cell_type": "code",
   "execution_count": 3,
   "metadata": {},
   "outputs": [],
   "source": [
    "path= \"C:/Users/Shohag/Desktop/phython/articles.C-H.xml.tar.gz\""
   ]
  },
  {
   "cell_type": "code",
   "execution_count": 4,
   "metadata": {},
   "outputs": [],
   "source": [
    "# Reader : Compressed TAR file\n",
    "\n",
    "def get_one_author(element):\n",
    "    name = element.find(\".//given-names\").text\n",
    "    surname = element.find(\".//surname\").text\n",
    "    return name+\" \"+surname\n",
    "    \n",
    "def reader(N=100):\n",
    "    \"\"\"Reads all authors from at most N files.\n",
    "    \"\"\"\n",
    "    i = 0\n",
    "    with tarfile.open(path, mode=\"r:gz\") as tf:\n",
    "        for item in tf:\n",
    "            file = tf.extractfile(item)\n",
    "            if file is None:\n",
    "                continue   # was a folder\n",
    "            try:    \n",
    "                doc = etree.parse(file)\n",
    "                authors_list = [get_one_author(a) for a in doc.findall(\".//contrib\") if \"author\" in a.values()]\n",
    "            \n",
    "                for author in authors_list:\n",
    "                    \n",
    "                    yield (item.name, author)\n",
    "            except:\n",
    "                continue\n",
    "\n",
    "            i += 1\n",
    "            if i >= N:\n",
    "                break"
   ]
  },
  {
   "cell_type": "code",
   "execution_count": 5,
   "metadata": {},
   "outputs": [],
   "source": [
    "MV = bag.from_sequence(reader(50000))\n",
    "\n",
    "# Multivariable with author as a key and paper as a value\n",
    "def get_author_name_paper(x):\n",
    "    paper, key = x\n",
    "    _, paper = paper.split(r'/')\n",
    "    paper, _ = paper.split(r'.nxml')\n",
    "    return (key, paper)"
   ]
  },
  {
   "cell_type": "code",
   "execution_count": 6,
   "metadata": {},
   "outputs": [
    {
     "data": {
      "text/plain": [
       "('Thomas L. Reichmann', 'CALPHAD_2014_Dec_47_56-62')"
      ]
     },
     "execution_count": 6,
     "metadata": {},
     "output_type": "execute_result"
    }
   ],
   "source": [
    "MV2 = MV.map(get_author_name_paper)\n",
    "MV2.take(1)[0]"
   ]
  },
  {
   "cell_type": "code",
   "execution_count": 7,
   "metadata": {},
   "outputs": [],
   "source": [
    "def make_dic(tup):\n",
    "    tups = {'key': tup[0], 'value':tup[1]}\n",
    "    return tups "
   ]
  },
  {
   "cell_type": "code",
   "execution_count": 8,
   "metadata": {},
   "outputs": [
    {
     "data": {
      "text/plain": [
       "{'key': 'Thomas L. Reichmann', 'value': 'CALPHAD_2014_Dec_47_56-62'}"
      ]
     },
     "execution_count": 8,
     "metadata": {},
     "output_type": "execute_result"
    }
   ],
   "source": [
    "MV3 = MV2.map(make_dic)\n",
    "MV3.take(1)[0]"
   ]
  },
  {
   "cell_type": "code",
   "execution_count": 9,
   "metadata": {},
   "outputs": [
    {
     "data": {
      "text/plain": [
       "(('Thomas L. Reichmann', 2),)"
      ]
     },
     "execution_count": 9,
     "metadata": {},
     "output_type": "execute_result"
    }
   ],
   "source": [
    "#List of authors of at least 10 publications and number of their publications\n",
    "def add(x, y = 1):\n",
    "    return x + 1\n",
    "MV4 = MV3.foldby('key', add, 0)\n",
    "MV4.take(1)"
   ]
  },
  {
   "cell_type": "code",
   "execution_count": 10,
   "metadata": {},
   "outputs": [
    {
     "data": {
      "text/plain": [
       "[('Kimberly D. Tanner', 15),\n",
       " ('Louisa A. Stark', 10),\n",
       " ('Erin L. Dolan', 16),\n",
       " ('Deborah Allen', 10),\n",
       " ('Bruce F. Walker', 19),\n",
       " ('Robert W. Derlet', 11),\n",
       " ('David B. Hogan', 10),\n",
       " ('Kenneth Rockwood', 12),\n",
       " ('R. Enns', 12),\n",
       " ('Louis Valiquette', 12),\n",
       " ('Kevin B Laupland', 10),\n",
       " ('Adeera Levin', 11),\n",
       " ('Jason Nickerson', 13),\n",
       " ('Paul Dent', 19),\n",
       " ('Yangqiu Li', 10),\n",
       " ('R H Reznek', 13),\n",
       " ('Marij J. P. Welters', 11),\n",
       " ('Sjoerd H. van der Burg', 11),\n",
       " ('Simon Sherman', 10),\n",
       " ('Eun-Cheol Park', 10),\n",
       " ('Kyu-Won Jung', 13),\n",
       " ('Hyun-Joo Kong', 11),\n",
       " ('Young-Joo Won', 13),\n",
       " ('Tae Min Kim', 12),\n",
       " ('Peter Bramlage', 10),\n",
       " ('Enrique Z Fisman', 13),\n",
       " ('Alexander Tenenbaum', 16),\n",
       " ('Jim A. Reekers', 11),\n",
       " ('Bongani M Mayosi', 16),\n",
       " ('Karen Sliwa', 21),\n",
       " ('J Moodley', 10),\n",
       " ('Okechukwu S Ogah', 11),\n",
       " ('Simon Stewart', 10),\n",
       " ('IB Diop', 10),\n",
       " ('--- ---', 12),\n",
       " ('Naoki Oiso', 10),\n",
       " ('Akira Kawada', 10),\n",
       " ('Sadanori Furudate', 22),\n",
       " ('Akira Hashimoto', 10),\n",
       " ('Yumi Kambayashi', 19),\n",
       " ('Aya Kakizaki', 14),\n",
       " ('Kenji Kabashima', 14),\n",
       " ('Marcia Ramos-e-Silva', 15),\n",
       " ('Paul Mustacchia', 13),\n",
       " ('Donald R. Love', 10),\n",
       " ('Moulay Hassan Farih', 10),\n",
       " ('Ali Bijani', 14),\n",
       " ('Behzad Heidari', 10),\n",
       " ('Lixin Wei', 10),\n",
       " ('Yun-Bo Shi', 20),\n",
       " ('Stephan M Feller', 17),\n",
       " ('Ralf Hass', 11),\n",
       " ('Michael P. Lisanti', 10),\n",
       " ('Y Shi', 15),\n",
       " ('G Melino', 11),\n",
       " ('Saeid Abroun', 11),\n",
       " ('Seyed Javad Mowla', 12),\n",
       " ('Masoud Soleimani', 19),\n",
       " ('Hossein Baharvand', 13),\n",
       " ('Jan P. A. Baak', 10),\n",
       " ('Duanqing Pei', 10),\n",
       " ('Ewa Skopińska-Różewska', 11),\n",
       " ('Roman Sosnowski', 13),\n",
       " ('Tomasz Drewa', 20),\n",
       " ('Janusz Dembowski', 12),\n",
       " ('Romuald Zdrojowy', 12),\n",
       " ('Marcin Słojewski', 11),\n",
       " ('Marcin Matuszewski', 14),\n",
       " ('Waldemar Różański', 13),\n",
       " ('Jakub Dobruch', 10),\n",
       " ('Sergio Alonso y Gregorio', 10),\n",
       " ('Juan Gómez Rivas', 16),\n",
       " ('Kajetan Juszczak', 11),\n",
       " ('Bhaskar K. Somani', 10),\n",
       " ('Ian H Gilbert', 12),\n",
       " ('Paul G Wyatt', 10),\n",
       " ('J Andrew McCammon', 10),\n",
       " ('Ibrahim A Darwish', 10),\n",
       " ('Syed Ghulam Musharraf', 10),\n",
       " ('Peter Muris', 10),\n",
       " ('Alice Kongsted', 12),\n",
       " ('Charlotte Leboeuf-Yde', 38),\n",
       " ('Bruce F Walker', 14),\n",
       " ('Stephen M Perle', 10),\n",
       " ('R Roepman', 13),\n",
       " ('Yehuda Shoenfeld', 11),\n",
       " ('Timothy L Lash', 12),\n",
       " ('Mette Nørgaard', 25),\n",
       " ('Henrik Toft Sørensen', 19),\n",
       " ('Rune Erichsen', 15),\n",
       " ('Vera Ehrenstein', 18),\n",
       " ('Mette Søgaard', 17),\n",
       " ('Trine Frøslev', 13),\n",
       " ('Reimar Wernich Thomsen', 12),\n",
       " ('Jacob Bonde Jacobsen', 10),\n",
       " ('Ulrich Mahlknecht', 14),\n",
       " ('Chul Hee Lee', 12),\n",
       " ('Seung Geun Yeo', 13),\n",
       " ('Won-Ho Chung', 10),\n",
       " ('Yang-Sun Cho', 13),\n",
       " ('Sung Hwa Hong', 12),\n",
       " ('Chae-Seo Rhee', 10),\n",
       " ('Young-Ik Son', 10),\n",
       " ('Heung-Man Lee', 10),\n",
       " ('Sun Hwa Cha', 10),\n",
       " ('Kwang Moon Yang', 21),\n",
       " ('In Ok Song', 17),\n",
       " ('Mi Kyoung Koong', 14),\n",
       " ('Inn Soo Kang', 14),\n",
       " ('Hye Ok Kim', 13),\n",
       " ('Chung-Hoon Kim', 10),\n",
       " ('Byung Chul Jee', 20),\n",
       " ('Chang Suk Suh', 17),\n",
       " ('Won Don Lee', 10),\n",
       " ('Tae Ki Yoon', 11),\n",
       " ('Dong-Kun Yang', 10),\n",
       " ('Karen L. Kotloff', 10),\n",
       " ('Myron M. Levine', 14),\n",
       " ('Samba O. Sow', 14),\n",
       " ('Marie-Pierre Preziosi', 15),\n",
       " ('Richard F Walker', 11)]"
      ]
     },
     "execution_count": 10,
     "metadata": {},
     "output_type": "execute_result"
    }
   ],
   "source": [
    "authors_10= list(MV4.filter(lambda x: x[1] >=10))\n",
    "authors_10"
   ]
  }
 ],
 "metadata": {
  "kernelspec": {
   "display_name": "Python 3",
   "language": "python",
   "name": "python3"
  },
  "language_info": {
   "codemirror_mode": {
    "name": "ipython",
    "version": 3
   },
   "file_extension": ".py",
   "mimetype": "text/x-python",
   "name": "python",
   "nbconvert_exporter": "python",
   "pygments_lexer": "ipython3",
   "version": "3.7.0"
  }
 },
 "nbformat": 4,
 "nbformat_minor": 2
}
